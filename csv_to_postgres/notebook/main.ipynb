{
 "cells": [
  {
   "cell_type": "markdown",
   "metadata": {},
   "source": [
    "# Python: csv to postgres"
   ]
  },
  {
   "cell_type": "code",
   "execution_count": null,
   "metadata": {},
   "outputs": [],
   "source": [
    "# Installing packages\n",
    "!pip install pandas psycopg2 logging python-dotenv requests"
   ]
  },
  {
   "cell_type": "code",
   "execution_count": null,
   "metadata": {},
   "outputs": [],
   "source": [
    "import os\n",
    "import logging\n",
    "import psycopg2\n",
    "import traceback\n",
    "from dotenv import load_dotenv\n",
    "\n",
    "def conn_postgres():\n",
    "    try:\n",
    "        # Load python-dotenv\n",
    "        load_dotenv()\n",
    "\n",
    "        # Postgres Envs\n",
    "        postgres_host = os.environ.get('postgres_host')\n",
    "        postgres_database = os.environ.get('postgres_database')\n",
    "        postgres_user = os.environ.get('postgres_user')\n",
    "        postgres_password = os.environ.get('postgres_password')\n",
    "        postgres_port = os.environ.get('postgres_port')\n",
    "        dest_folder = os.environ.get(\"dest_folder\")\n",
    "\n",
    "        logging.basicConfig(\n",
    "            level=logging.INFO, format=\"%(asctime)s:%(funcName)s:%(levelname)s:%(message)s\"\n",
    "        )\n",
    "\n",
    "        conn = psycopg2.connect(\n",
    "            host=postgres_host,\n",
    "            database=postgres_database,\n",
    "            user=postgres_user,\n",
    "            password=postgres_password,\n",
    "            port=postgres_port\n",
    "        )\n",
    "\n",
    "        logging.info('Postgres server connection is successful')\n",
    "\n",
    "    except Exception as e:\n",
    "        traceback.print_exc()\n",
    "        logging.error(\"Couldn't create the Postgres connection\")\n",
    "        return None"
   ]
  },
  {
   "cell_type": "code",
   "execution_count": null,
   "metadata": {},
   "outputs": [],
   "source": [
    "import os\n",
    "import logging\n",
    "import psycopg2\n",
    "import traceback\n",
    "import urllib.request\n",
    "from dotenv import load_dotenv\n",
    "\n",
    "\"\"\"\n",
    "Downloads the csv file from the URL. Creates a new table in the Postgres server.\n",
    "Reads the file as a dataframe and inserts each record to the Postgres table. \n",
    "\"\"\"\n",
    "url = \"https://raw.githubusercontent.com/marcelopachione/pythonLabs/dataset/main/Churn_Modelling.csv\"\n",
    "dest_folder = \"../../datasets/\"\n",
    "\n",
    "destination_path = f\"{dest_folder}/churn_modelling.csv\"\n",
    "\n",
    "\n",
    "def download_file_from_url(url: str, dest_folder: str):\n",
    "    \"\"\"\n",
    "    Download a file from a specific URL and download to the local direcory\n",
    "    \"\"\"\n",
    "    # Load python-dotenv\n",
    "    load_dotenv()\n",
    "\n",
    "    if not os.path.exists(str(dest_folder)):\n",
    "        os.makedirs(str(dest_folder))  # create folder if it does not exist\n",
    "\n",
    "    try:\n",
    "        urllib.request.urlretrieve(url, destination_path)\n",
    "        logging.info(\"csv file downloaded successfully to the working directory\")\n",
    "    except Exception as e:\n",
    "        logging.error(f\"Error while downloading the csv file due to: {e}\")\n",
    "        traceback.print_exc()\n",
    "\n",
    "\n",
    "download_file_from_url(url, dest_folder)"
   ]
  }
 ],
 "metadata": {
  "kernelspec": {
   "display_name": "Python 3",
   "language": "python",
   "name": "python3"
  },
  "language_info": {
   "codemirror_mode": {
    "name": "ipython",
    "version": 3
   },
   "file_extension": ".py",
   "mimetype": "text/x-python",
   "name": "python",
   "nbconvert_exporter": "python",
   "pygments_lexer": "ipython3",
   "version": "3.12.0"
  }
 },
 "nbformat": 4,
 "nbformat_minor": 2
}
