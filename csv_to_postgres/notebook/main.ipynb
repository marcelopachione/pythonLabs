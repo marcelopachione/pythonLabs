{
 "cells": [
  {
   "cell_type": "markdown",
   "metadata": {},
   "source": [
    "# Python: csv to postgres"
   ]
  },
  {
   "cell_type": "code",
   "execution_count": 1,
   "metadata": {},
   "outputs": [
    {
     "name": "stdout",
     "output_type": "stream",
     "text": [
      "Requirement already satisfied: pandas in d:\\dataeng\\projects\\pythonlabs\\csv_to_postgres\\.csv_to_postgres\\lib\\site-packages (2.1.3)\n",
      "Requirement already satisfied: psycopg2 in d:\\dataeng\\projects\\pythonlabs\\csv_to_postgres\\.csv_to_postgres\\lib\\site-packages (2.9.9)\n",
      "Requirement already satisfied: logging in d:\\dataeng\\projects\\pythonlabs\\csv_to_postgres\\.csv_to_postgres\\lib\\site-packages (0.4.9.6)\n",
      "Requirement already satisfied: python-dotenv in d:\\dataeng\\projects\\pythonlabs\\csv_to_postgres\\.csv_to_postgres\\lib\\site-packages (1.0.0)\n",
      "Requirement already satisfied: requests in d:\\dataeng\\projects\\pythonlabs\\csv_to_postgres\\.csv_to_postgres\\lib\\site-packages (2.31.0)\n",
      "Requirement already satisfied: numpy<2,>=1.26.0 in d:\\dataeng\\projects\\pythonlabs\\csv_to_postgres\\.csv_to_postgres\\lib\\site-packages (from pandas) (1.26.2)\n",
      "Requirement already satisfied: python-dateutil>=2.8.2 in d:\\dataeng\\projects\\pythonlabs\\csv_to_postgres\\.csv_to_postgres\\lib\\site-packages (from pandas) (2.8.2)\n",
      "Requirement already satisfied: pytz>=2020.1 in d:\\dataeng\\projects\\pythonlabs\\csv_to_postgres\\.csv_to_postgres\\lib\\site-packages (from pandas) (2023.3.post1)\n",
      "Requirement already satisfied: tzdata>=2022.1 in d:\\dataeng\\projects\\pythonlabs\\csv_to_postgres\\.csv_to_postgres\\lib\\site-packages (from pandas) (2023.3)\n",
      "Requirement already satisfied: charset-normalizer<4,>=2 in d:\\dataeng\\projects\\pythonlabs\\csv_to_postgres\\.csv_to_postgres\\lib\\site-packages (from requests) (3.3.2)\n",
      "Requirement already satisfied: idna<4,>=2.5 in d:\\dataeng\\projects\\pythonlabs\\csv_to_postgres\\.csv_to_postgres\\lib\\site-packages (from requests) (3.4)\n",
      "Requirement already satisfied: urllib3<3,>=1.21.1 in d:\\dataeng\\projects\\pythonlabs\\csv_to_postgres\\.csv_to_postgres\\lib\\site-packages (from requests) (2.1.0)\n",
      "Requirement already satisfied: certifi>=2017.4.17 in d:\\dataeng\\projects\\pythonlabs\\csv_to_postgres\\.csv_to_postgres\\lib\\site-packages (from requests) (2023.7.22)\n",
      "Requirement already satisfied: six>=1.5 in d:\\dataeng\\projects\\pythonlabs\\csv_to_postgres\\.csv_to_postgres\\lib\\site-packages (from python-dateutil>=2.8.2->pandas) (1.16.0)\n"
     ]
    },
    {
     "name": "stderr",
     "output_type": "stream",
     "text": [
      "\n",
      "[notice] A new release of pip is available: 23.2.1 -> 23.3.1\n",
      "[notice] To update, run: D:\\DataEng\\projects\\pythonLabs\\csv_to_postgres\\.csv_to_postgres\\Scripts\\python.exe -m pip install --upgrade pip\n"
     ]
    }
   ],
   "source": [
    "# Installing packages\n",
    "!pip install pandas psycopg2 logging python-dotenv requests"
   ]
  },
  {
   "cell_type": "code",
   "execution_count": 2,
   "metadata": {},
   "outputs": [
    {
     "name": "stderr",
     "output_type": "stream",
     "text": [
      "2023-11-17 15:07:24,156:conn_postgres:INFO:Postgres server connection is successful\n"
     ]
    }
   ],
   "source": [
    "import os\n",
    "import logging\n",
    "import psycopg2\n",
    "import traceback\n",
    "import urllib.request\n",
    "from dotenv import load_dotenv\n",
    "\n",
    "logging.basicConfig(\n",
    "    level=logging.INFO, format=\"%(asctime)s:%(funcName)s:%(levelname)s:%(message)s\"\n",
    ")\n",
    "\n",
    "def conn_postgres():\n",
    "    try:\n",
    "        # Load python-dotenv\n",
    "        load_dotenv()\n",
    "\n",
    "        # Postgres Envs\n",
    "        postgres_host = os.environ.get('postgres_host')\n",
    "        postgres_database = os.environ.get('postgres_database')\n",
    "        postgres_user = os.environ.get('postgres_user')\n",
    "        postgres_password = os.environ.get('postgres_password')\n",
    "        postgres_port = os.environ.get('postgres_port')\n",
    "\n",
    "        conn = psycopg2.connect(\n",
    "            host=postgres_host,\n",
    "            database=postgres_database,\n",
    "            user=postgres_user,\n",
    "            password=postgres_password,\n",
    "            port=postgres_port\n",
    "        )\n",
    "\n",
    "        logging.info('Postgres server connection is successful')\n",
    "\n",
    "        return conn\n",
    "\n",
    "    except Exception as e:\n",
    "        traceback.print_exc()\n",
    "        logging.error(\"Couldn't create the Postgres connection\")\n",
    "        return None\n",
    "\n",
    "\n",
    "connection = conn_postgres()"
   ]
  },
  {
   "cell_type": "code",
   "execution_count": 3,
   "metadata": {},
   "outputs": [
    {
     "name": "stderr",
     "output_type": "stream",
     "text": [
      "2023-11-17 15:07:24,289:download_file_from_url:INFO:csv file downloaded successfully to the working directory to ../../datasets/churn_modelling.csv\n"
     ]
    }
   ],
   "source": [
    "\"\"\"\n",
    "Downloads the csv file from the URL. Creates a new table in the Postgres server.\n",
    "Reads the file as a dataframe and inserts each record to the Postgres table. \n",
    "\"\"\"\n",
    "url = \"https://raw.githubusercontent.com/marcelopachione/pythonLabs/main/datasets/churn_modelling.csv\"\n",
    "dest_folder = os.environ.get(\"dest_folder\")\n",
    "destination_path = f\"{dest_folder}/churn_modelling.csv\"\n",
    "\n",
    "\n",
    "def download_file_from_url(url: str, dest_folder: str):\n",
    "    \"\"\"\n",
    "    Download a file from a specific URL and download to the local direcory\n",
    "    \"\"\"\n",
    "    if not os.path.exists(str(dest_folder)):\n",
    "        os.makedirs(str(dest_folder))  # create folder if it does not exist\n",
    "\n",
    "    try:\n",
    "        urllib.request.urlretrieve(url, destination_path)\n",
    "        logging.info(\n",
    "            f\"csv file downloaded successfully to the working directory to {destination_path}\"\n",
    "        )\n",
    "    except Exception as e:\n",
    "        logging.error(f\"Error while downloading the csv file due to: {e}\")\n",
    "        traceback.print_exc()\n",
    "\n",
    "\n",
    "download_file_from_url(url, dest_folder)"
   ]
  },
  {
   "cell_type": "code",
   "execution_count": 108,
   "metadata": {},
   "outputs": [
    {
     "name": "stderr",
     "output_type": "stream",
     "text": [
      "2023-11-17 15:27:47,583:conn_postgres:INFO:Postgres server connection is successful\n"
     ]
    },
    {
     "name": "stderr",
     "output_type": "stream",
     "text": [
      "2023-11-17 15:27:47,634:create_postgres_table:INFO:New table churn_modelling created successfully on the Postgres server\n"
     ]
    }
   ],
   "source": [
    "def create_postgres_table():\n",
    "    \"\"\"\n",
    "    Create the Postgres table with a desired schema\n",
    "    \"\"\"\n",
    "    try:\n",
    "        connection = conn_postgres()\n",
    "\n",
    "        if connection:\n",
    "            cur = connection.cursor()\n",
    "            \n",
    "            cur.execute(\"\"\"CREATE TABLE IF NOT EXISTS churn_modelling (RowNumber INTEGER PRIMARY KEY, CustomerId INTEGER, \n",
    "            Surname VARCHAR(50), CreditScore INTEGER, Geography VARCHAR(50), Gender VARCHAR(20), Age INTEGER, \n",
    "            Tenure INTEGER, Balance FLOAT, NumOfProducts INTEGER, HasCrCard INTEGER, IsActiveMember INTEGER, EstimatedSalary FLOAT, Exited INTEGER)\"\"\")\n",
    "            \n",
    "            logging.info('New table churn_modelling created successfully on the Postgres server')\n",
    "\n",
    "    except Exception as e:\n",
    "        logging.warning('Check if the table churn_modelling exists. Error: {}'.format(e))\n",
    "    \n",
    "    finally:\n",
    "        if connection:\n",
    "            connection.close()\n",
    "\n",
    "\n",
    "create_postgres_table()\n"
   ]
  },
  {
   "cell_type": "code",
   "execution_count": null,
   "metadata": {},
   "outputs": [],
   "source": []
  }
 ],
 "metadata": {
  "kernelspec": {
   "display_name": "Python 3",
   "language": "python",
   "name": "python3"
  },
  "language_info": {
   "codemirror_mode": {
    "name": "ipython",
    "version": 3
   },
   "file_extension": ".py",
   "mimetype": "text/x-python",
   "name": "python",
   "nbconvert_exporter": "python",
   "pygments_lexer": "ipython3",
   "version": "3.12.0"
  }
 },
 "nbformat": 4,
 "nbformat_minor": 2
}
