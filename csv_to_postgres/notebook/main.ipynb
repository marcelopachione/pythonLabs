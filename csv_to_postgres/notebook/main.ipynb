{
 "cells": [
  {
   "cell_type": "markdown",
   "metadata": {},
   "source": [
    "# Python: csv to postgres"
   ]
  },
  {
   "cell_type": "code",
   "execution_count": null,
   "metadata": {},
   "outputs": [],
   "source": [
    "# Installing packages\n",
    "!pip install pandas psycopg2 logging python-dotenv requests"
   ]
  },
  {
   "cell_type": "code",
   "execution_count": null,
   "metadata": {},
   "outputs": [],
   "source": [
    "# Importing packages\n",
    "import os\n",
    "import logging\n",
    "import psycopg2\n",
    "import traceback\n",
    "import numpy as np\n",
    "import pandas as pd\n",
    "import urllib.request\n",
    "from dotenv import load_dotenv\n",
    "\n",
    "# Load python-dotenv\n",
    "load_dotenv()\n",
    "\n",
    "# Postgres Envs\n",
    "postgres_host = os.environ.get('postgres_host')\n",
    "postgres_database = os.environ.get('postgres_database')\n",
    "postgres_user = os.environ.get('postgres_user')\n",
    "postgres_password = os.environ.get('postgres_password')\n",
    "postgres_port = os.environ.get('postgres_port')\n",
    "dest_folder = os.environ.get(\"dest_folder\")\n",
    "\n",
    "logging.basicConfig(\n",
    "    level=logging.INFO, format=\"%(asctime)s:%(funcName)s:%(levelname)s:%(message)s\"\n",
    ")\n",
    "\n",
    "try:\n",
    "    conn = psycopg2.connect(\n",
    "        host=postgres_host,\n",
    "        database=postgres_database,\n",
    "        user=postgres_user,\n",
    "        password=postgres_password,\n",
    "        port=postgres_port\n",
    "    )\n",
    "    cur = conn.cursor()\n",
    "    logging.info('Postgres server connection is successful')\n",
    "except Exception as e:\n",
    "    traceback.print_exc()\n",
    "    logging.error(\"Couldn't create the Postgres connection\")"
   ]
  },
  {
   "cell_type": "code",
   "execution_count": null,
   "metadata": {},
   "outputs": [],
   "source": [
    "import os\n",
    "import logging\n",
    "import psycopg2\n",
    "import traceback\n",
    "from dotenv import load_dotenv\n",
    "\n",
    "def conn_postgres():\n",
    "    try:\n",
    "        # Load python-dotenv\n",
    "        load_dotenv()\n",
    "\n",
    "        # Postgres Envs\n",
    "        postgres_host = os.environ.get('postgres_host')\n",
    "        postgres_database = os.environ.get('postgres_database')\n",
    "        postgres_user = os.environ.get('postgres_user')\n",
    "        postgres_password = os.environ.get('postgres_password')\n",
    "        postgres_port = os.environ.get('postgres_port')\n",
    "        dest_folder = os.environ.get(\"dest_folder\")\n",
    "\n",
    "        logging.basicConfig(\n",
    "            level=logging.INFO, format=\"%(asctime)s:%(funcName)s:%(levelname)s:%(message)s\"\n",
    "        )\n",
    "\n",
    "        conn = psycopg2.connect(\n",
    "            host=postgres_host,\n",
    "            database=postgres_database,\n",
    "            user=postgres_user,\n",
    "            password=postgres_password,\n",
    "            port=postgres_port\n",
    "        )\n",
    "\n",
    "        logging.info('Postgres server connection is successful')\n",
    "\n",
    "    except Exception as e:\n",
    "        traceback.print_exc()\n",
    "        logging.error(\"Couldn't create the Postgres connection\")\n",
    "        return None"
   ]
  }
 ],
 "metadata": {
  "kernelspec": {
   "display_name": "Python 3",
   "language": "python",
   "name": "python3"
  },
  "language_info": {
   "codemirror_mode": {
    "name": "ipython",
    "version": 3
   },
   "file_extension": ".py",
   "mimetype": "text/x-python",
   "name": "python",
   "nbconvert_exporter": "python",
   "pygments_lexer": "ipython3",
   "version": "3.12.0"
  }
 },
 "nbformat": 4,
 "nbformat_minor": 2
}
